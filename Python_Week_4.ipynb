{
  "nbformat": 4,
  "nbformat_minor": 0,
  "metadata": {
    "colab": {
      "name": "Python_Week 4.ipynb",
      "provenance": []
    },
    "kernelspec": {
      "name": "python3",
      "display_name": "Python 3"
    },
    "language_info": {
      "name": "python"
    }
  },
  "cells": [
    {
      "cell_type": "markdown",
      "metadata": {
        "id": "TDRc-6MKfqnz"
      },
      "source": [
        "Q1"
      ]
    },
    {
      "cell_type": "code",
      "metadata": {
        "colab": {
          "base_uri": "https://localhost:8080/"
        },
        "id": "8RtcHwrfE-22",
        "outputId": "188f5d31-39ec-4362-eb7d-63b83da97217"
      },
      "source": [
        "class Car:\n",
        "  def __init__(self, model, name, year,color, horsepower):\n",
        "        print(\"Car created\")\n",
        "        self.model = model\n",
        "        self.name =  name\n",
        "        self.year = year\n",
        "        self.color = color\n",
        "        self.horsepower = horsepower\n",
        "  def attributes(self):\n",
        "        print(\"The car is\", self.model,\"Model\", self.name,\",\", self.year,\"in\",\n",
        "              self.color,  \"with\" ,self.horsepower,\"hp.\")\n",
        "  def namechange(self, name):\n",
        "        self.name = name\n",
        "  def colorchange(self, color):\n",
        "        self.color = color\n",
        "\n",
        "\n",
        "c = Car(\"Tesla\", \"S\", 2012, \"Deep Blue Metallic\", 503)\n",
        "c.attributes()\n",
        "c.namechange(\"X\")\n",
        "c.attributes()\n",
        "c.colorchange(\"Solid Black\")\n",
        "c.attributes()       "
      ],
      "execution_count": 26,
      "outputs": [
        {
          "output_type": "stream",
          "text": [
            "Car created\n",
            "The car is Tesla Model S , 2012 in Deep Blue Metallic with 503 hp.\n",
            "The car is Tesla Model X , 2012 in Deep Blue Metallic with 503 hp.\n",
            "The car is Tesla Model X , 2012 in Solid Black with 503 hp.\n"
          ],
          "name": "stdout"
        }
      ]
    },
    {
      "cell_type": "markdown",
      "metadata": {
        "id": "qYH6zoKWfttk"
      },
      "source": [
        "Q2"
      ]
    },
    {
      "cell_type": "code",
      "metadata": {
        "colab": {
          "base_uri": "https://localhost:8080/"
        },
        "id": "A3iDllayfwVC",
        "outputId": "82bb0381-691a-4ec4-95ed-a60bd1f641ef"
      },
      "source": [
        "import random\n",
        "t1= 'This is the 4th week'\n",
        "t2=[t1[i:i+3] for i in range(0, len(t1), 3)]\n",
        "print(t2)\n",
        "random.shuffle(t2)\n",
        "separator = ''\n",
        "print(separator.join(t2))\n",
        "\n"
      ],
      "execution_count": 25,
      "outputs": [
        {
          "output_type": "stream",
          "text": [
            "['Thi', 's i', 's t', 'he ', '4th', ' we', 'ek']\n",
            "s is t4thhe  weekThi\n"
          ],
          "name": "stdout"
        }
      ]
    },
    {
      "cell_type": "markdown",
      "metadata": {
        "id": "Cp9uIp9onZg3"
      },
      "source": [
        "Q3"
      ]
    },
    {
      "cell_type": "code",
      "metadata": {
        "id": "Qm3OkdMgnbMT"
      },
      "source": [
        "class Students:\n",
        "    def __init__(self, rn, name, grade, phno):\n",
        "         print(\"Students created\")\n",
        "         self.rn = rn\n",
        "         self.name = name\n",
        "         self.grade = grade\n",
        "         self.phno = phno \n",
        "    \n",
        "    def data(self):\n",
        "         print(\"Roll No:\",self.rn,\"\\nName:\", self.name, \"\\nGrade:\",self.grade,\"\\nPhone No:\",self.phno)\n"
      ],
      "execution_count": 57,
      "outputs": []
    },
    {
      "cell_type": "code",
      "metadata": {
        "colab": {
          "base_uri": "https://localhost:8080/"
        },
        "id": "oBl9j-X5vdaS",
        "outputId": "532a44e8-d6ce-42a8-9e6a-0c69697afd90"
      },
      "source": [
        " a=Students(101,\"Nina\",\"9th\",9689446113)  \n",
        " a.data()\n",
        " b=Students(102,\"Kev\",\"10th\",9689111113) \n",
        " b.data()"
      ],
      "execution_count": 91,
      "outputs": [
        {
          "output_type": "stream",
          "text": [
            "Students created\n",
            "Roll No: 101 \n",
            "Name: Nina \n",
            "Grade: 9th \n",
            "Phone No: 9689446113\n",
            "Students created\n",
            "Roll No: 102 \n",
            "Name: Kev \n",
            "Grade: 10th \n",
            "Phone No: 9689111113\n"
          ],
          "name": "stdout"
        }
      ]
    },
    {
      "cell_type": "code",
      "metadata": {
        "id": "ABjm-cKJwJH0"
      },
      "source": [
        "class Sports(Students):\n",
        "  def __init__(self,rn, name, grade, phno,sport):\n",
        "    Students.__init__(self,rn, name, grade, phno)\n",
        "    self.sport=sport\n",
        "    self.name=name\n",
        "  def data(self):\n",
        "    Students.data(self)\n",
        "    print(\"Sport:\",self.sport)\n",
        "  def phchange(self, phno):\n",
        "        self.phno = phno\n",
        "  def sportchange(self, sport):\n",
        "        self.sport = sport \n",
        "  def __del__(self):\n",
        "    print(self.name + \" doesn't play sports any more.\")           \n",
        "\n"
      ],
      "execution_count": 108,
      "outputs": []
    },
    {
      "cell_type": "code",
      "metadata": {
        "colab": {
          "base_uri": "https://localhost:8080/"
        },
        "id": "6jA58alG22se",
        "outputId": "4dda7922-6b49-45e3-995b-6def028d4654"
      },
      "source": [
        "a=Sports(101,\"Nina\",\"9th\",9689446113,\"Tennis\")\n",
        "a.data()\n",
        "b=Sports(102,\"Kev\",\"10th\",9689111113,\"Football\") \n",
        "b.data()\n",
        "a.phchange(9988776655)\n",
        "print(\"\\n UPDATED\")\n",
        "a.data()\n",
        "print(\"\\n UPDATED\")\n",
        "b.sportchange(\"Cricket\")\n",
        "b.data()\n"
      ],
      "execution_count": 109,
      "outputs": [
        {
          "output_type": "stream",
          "text": [
            "Students created\n",
            "Roll No: 101 \n",
            "Name: Nina \n",
            "Grade: 9th \n",
            "Phone No: 9689446113\n",
            "Sport: Tennis\n",
            "Students created\n",
            "Roll No: 102 \n",
            "Name: Kev \n",
            "Grade: 10th \n",
            "Phone No: 9689111113\n",
            "Sport: Football\n",
            "\n",
            " UPDATED\n",
            "Roll No: 101 \n",
            "Name: Nina \n",
            "Grade: 9th \n",
            "Phone No: 9988776655\n",
            "Sport: Tennis\n",
            "\n",
            " UPDATED\n",
            "Roll No: 102 \n",
            "Name: Kev \n",
            "Grade: 10th \n",
            "Phone No: 9689111113\n",
            "Sport: Cricket\n"
          ],
          "name": "stdout"
        },
        {
          "output_type": "stream",
          "text": [
            "Exception ignored in: <function Sports.__del__ at 0x7f3317c8be60>\n",
            "Traceback (most recent call last):\n",
            "  File \"<ipython-input-102-dc022b3a14d1>\", line 13, in __del__\n",
            "AttributeError: 'Sports' object has no attribute 'Name'\n"
          ],
          "name": "stderr"
        }
      ]
    },
    {
      "cell_type": "code",
      "metadata": {
        "colab": {
          "base_uri": "https://localhost:8080/"
        },
        "id": "pfwcVMkT725G",
        "outputId": "6c625038-1486-4382-fe03-abd4f85192dd"
      },
      "source": [
        "del a"
      ],
      "execution_count": 110,
      "outputs": [
        {
          "output_type": "stream",
          "text": [
            "Nina doesn't play sports any more.\n"
          ],
          "name": "stdout"
        }
      ]
    }
  ]
}