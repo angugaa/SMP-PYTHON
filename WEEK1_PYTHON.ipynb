{
  "nbformat": 4,
  "nbformat_minor": 0,
  "metadata": {
    "colab": {
      "name": "WEEK1-PYTHON.ipynb",
      "provenance": [],
      "collapsed_sections": []
    },
    "kernelspec": {
      "name": "python3",
      "display_name": "Python 3"
    },
    "language_info": {
      "name": "python"
    }
  },
  "cells": [
    {
      "cell_type": "code",
      "metadata": {
        "colab": {
          "base_uri": "https://localhost:8080/"
        },
        "id": "6T5KwWerB3oi",
        "outputId": "54cc1f9a-a25e-4f41-afa1-06c4ee390603"
      },
      "source": [
        "#1. Q: What is 7.3 plus 5+4j?\n",
        "a=7.3\n",
        "b=5+4j\n",
        "c=a+b\n",
        "print(c)"
      ],
      "execution_count": null,
      "outputs": [
        {
          "output_type": "stream",
          "text": [
            "(12.3+4j)\n"
          ],
          "name": "stdout"
        }
      ]
    },
    {
      "cell_type": "code",
      "metadata": {
        "colab": {
          "base_uri": "https://localhost:8080/"
        },
        "id": "5yRD6y1-B4Qh",
        "outputId": "ef104007-68e0-4750-c429-6e42af420b84"
      },
      "source": [
        "#1. Q Are 4e4 and 4E4 same? Check using a python operator.\n",
        "\n",
        "print(4e4==4E4)\n"
      ],
      "execution_count": null,
      "outputs": [
        {
          "output_type": "execute_result",
          "data": {
            "text/plain": [
              "True"
            ]
          },
          "metadata": {
            "tags": []
          },
          "execution_count": 5
        }
      ]
    },
    {
      "cell_type": "code",
      "metadata": {
        "colab": {
          "base_uri": "https://localhost:8080/"
        },
        "id": "ZfAZ3hwHEMGt",
        "outputId": "37726b8b-c3b1-4d9e-bac7-7f9d9a3c8a5b"
      },
      "source": [
        "#1. Q  if c = 3 + 5j, store it’s real and imaginary parts into r and i variables\n",
        "#respectively.\n",
        "c=3+5j\n",
        "a=c.real\n",
        "b=c.imag\n",
        "print(\"real part=\",int(a))\n",
        "print(\"imaginary part=\",int(b))\n"
      ],
      "execution_count": null,
      "outputs": [
        {
          "output_type": "stream",
          "text": [
            "real part= 3\n",
            "imaginary part= 5\n"
          ],
          "name": "stdout"
        }
      ]
    },
    {
      "cell_type": "code",
      "metadata": {
        "colab": {
          "base_uri": "https://localhost:8080/"
        },
        "id": "e-iIVjgIKBIs",
        "outputId": "406839a9-908d-4c92-d6b9-d49689131afa"
      },
      "source": [
        "#1. Q Call the euler’s number e and truncate the decimal part of the number and \n",
        "#store that into a variable.\n",
        "import math\n",
        "print(math.e)\n",
        "a=math.e\n",
        "print(math.trunc(a))"
      ],
      "execution_count": null,
      "outputs": [
        {
          "output_type": "stream",
          "text": [
            "2.718281828459045\n",
            "2\n"
          ],
          "name": "stdout"
        }
      ]
    },
    {
      "cell_type": "code",
      "metadata": {
        "colab": {
          "base_uri": "https://localhost:8080/"
        },
        "id": "e_sJ7KsTJYcz",
        "outputId": "6b9b6bc8-e33c-4f94-99a3-7fc5e728f70d"
      },
      "source": [
        "#2. Pass a dictionary into a function and print the elements of the dictionary.\n",
        "\n",
        "d={\"a\":1,\"b\":3,\"c\":9}\n",
        "def fn(d):\n",
        "  return d\n",
        "k=fn(d)\n",
        "print(k)\n",
        "\n",
        "\n"
      ],
      "execution_count": null,
      "outputs": [
        {
          "output_type": "stream",
          "text": [
            "{'a': 1, 'b': 3, 'c': 9}\n"
          ],
          "name": "stdout"
        }
      ]
    },
    {
      "cell_type": "code",
      "metadata": {
        "colab": {
          "base_uri": "https://localhost:8080/"
        },
        "id": "A74kX4AhoTNr",
        "outputId": "0c8fe8c6-ec08-4bf8-f3d7-ff802903a94f"
      },
      "source": [
        "#3. Print the factorial of a user input number.\n",
        "\n",
        "N=int(input(\"n:\"))\n",
        "fact=1\n",
        "i=N\n",
        "while(i>=1):\n",
        "  fact=fact*i\n",
        "  i-=1\n",
        "if i==0:\n",
        "  print(\"factorial:\",fact)\n"
      ],
      "execution_count": null,
      "outputs": [
        {
          "output_type": "stream",
          "text": [
            "n:6\n",
            "factorial: 720\n"
          ],
          "name": "stdout"
        }
      ]
    },
    {
      "cell_type": "code",
      "metadata": {
        "colab": {
          "base_uri": "https://localhost:8080/"
        },
        "id": "-i4R_sck4xSY",
        "outputId": "83890f9e-34b7-4827-c9a2-6618bd33ec91"
      },
      "source": [
        "#4. Print a Fibonacci series upto the given number.\n",
        "\n",
        "n=int(input(\"n:\"))\n",
        "prev=0\n",
        "pres=1\n",
        "print(\"Fibonacci Series:\",prev)\n",
        "while pres<=n:\n",
        "  print(pres)\n",
        "  next=prev+pres;\n",
        "  prev=pres\n",
        "  pres=next"
      ],
      "execution_count": null,
      "outputs": [
        {
          "output_type": "stream",
          "text": [
            "n:133\n",
            "Fibonacci Series 0\n",
            "1\n",
            "1\n",
            "2\n",
            "3\n",
            "5\n",
            "8\n",
            "13\n",
            "21\n",
            "34\n",
            "55\n",
            "89\n"
          ],
          "name": "stdout"
        }
      ]
    },
    {
      "cell_type": "code",
      "metadata": {
        "colab": {
          "base_uri": "https://localhost:8080/"
        },
        "id": "8wlEJBPKgUxE",
        "outputId": "a082f29c-c005-4ebe-9ed3-3bbc2c9aafa1"
      },
      "source": [
        "#5. Given an array of integers,find the sum of positive and negative numbers\n",
        "#separately and print \"POSITIVE\" if sum of positive numbers is greater than the\n",
        "#absolute value of the sum of negative numbers, else print \"NEGATIVE\".\n",
        "\n",
        "n = int(input(\"Enter number of elements : \"))\n",
        "print(\"Enter the numbers:\")\n",
        "intg=[]\n",
        "i=1\n",
        "while i<=n:\n",
        "    g = int(input())\n",
        "    intg.append(g) \n",
        "    i+=1\n",
        "p=0\n",
        "n=0\n",
        "\n",
        "for i in intg:\n",
        "\n",
        "    if i>=0:\n",
        "        p+=i\n",
        "    else:\n",
        "        n+=i\n",
        "  \n",
        "print(\"Sum of Positive No.s:\",p)  \n",
        "print(\"Sum of Negative No.s:\",n)  \n",
        "\n",
        "if(p>=-n):\n",
        "    print(\"POSITIVE\")\n",
        "else:\n",
        "    print(\"NEGATIVE\")"
      ],
      "execution_count": null,
      "outputs": [
        {
          "output_type": "stream",
          "text": [
            "Enter number of elements : 6\n",
            "Enter the numbers:\n",
            "-7\n",
            "14\n",
            "2\n",
            "8\n",
            "19\n",
            "-22\n",
            "Sum of Positive No.s: 43\n",
            "Sum of Negative No.s: -29\n",
            "POSITIVE\n"
          ],
          "name": "stdout"
        }
      ]
    },
    {
      "cell_type": "code",
      "metadata": {
        "colab": {
          "base_uri": "https://localhost:8080/"
        },
        "id": "8rie94vEAEl5",
        "outputId": "6adb8774-8d30-43e2-c70d-6a0b389cc603"
      },
      "source": [
        "#6. Given a string, return a string of the same length where the vowels are in the first\n",
        "#and the consonants are in the last. But the inner order of vowels and consonants\n",
        "#should not change.\n",
        "\n",
        "s= input()\n",
        " \n",
        "vowels = None\n",
        "consonants = None\n",
        "s=s.lower()\n",
        "for i in s:\n",
        "    if i == 'a' or i == 'e' or i == 'i' or i == 'o' or i == 'u':\n",
        "        if vowels == None:\n",
        "            vowels=i\n",
        "        else:\n",
        "            vowels+=i\n",
        "    else:\n",
        "        if consonants == None:\n",
        "            consonants=i\n",
        "        else:\n",
        "            consonants+=i\n",
        "            \n",
        "\n",
        "ans = vowels+consonants\n",
        "print(ans)\n"
      ],
      "execution_count": null,
      "outputs": [
        {
          "output_type": "stream",
          "text": [
            "GHSNNEEBJD\n",
            "eeghsnnbjd\n"
          ],
          "name": "stdout"
        }
      ]
    },
    {
      "cell_type": "code",
      "metadata": {
        "colab": {
          "base_uri": "https://localhost:8080/"
        },
        "id": "iDSy89p8M6rh",
        "outputId": "1fc442c1-44f5-49b9-e16f-db378317cf88"
      },
      "source": [
        "#7. Write a code which returns the first m multiples of a natural number n,\n",
        "# without using any loop.\n",
        "\n",
        "X=int(input(\"Enter No.:\"))\n",
        "Y=int(input(\"Enter ,of multiples:\"))\n",
        "nos=(list(range(X,X*(Y+1),X)))\n",
        "print(\"Multiples are:\",*nos,sep='\\n')"
      ],
      "execution_count": null,
      "outputs": [
        {
          "output_type": "stream",
          "text": [
            "Enter No.:4\n",
            "Enter of multiples:5\n",
            "Multiples are:\n",
            "4\n",
            "8\n",
            "12\n",
            "16\n",
            "20\n"
          ],
          "name": "stdout"
        }
      ]
    }
  ]
}