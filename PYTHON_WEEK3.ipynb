{
  "nbformat": 4,
  "nbformat_minor": 0,
  "metadata": {
    "colab": {
      "name": "PYTHON-WEEK3.ipynb",
      "provenance": []
    },
    "kernelspec": {
      "name": "python3",
      "display_name": "Python 3"
    },
    "language_info": {
      "name": "python"
    }
  },
  "cells": [
    {
      "cell_type": "markdown",
      "metadata": {
        "id": "c5Wpiijq2ICi"
      },
      "source": [
        "DICTIONARIES "
      ]
    },
    {
      "cell_type": "code",
      "metadata": {
        "colab": {
          "base_uri": "https://localhost:8080/"
        },
        "id": "UHJi237DYkBU",
        "outputId": "0786e499-90bc-4ffa-ec85-36651ea489e1"
      },
      "source": [
        "#QUESTION 1\n",
        "\n",
        "n1=int(input())\n",
        "dict1=dict()\n",
        "\n",
        "for key in range(0,n1):\n",
        "        word=input().split()\n",
        "        key=word[0]\n",
        "        value=word[1]\n",
        "        dict1[key]=value\n",
        "\n",
        "n2=int(input())\n",
        "dict2=dict()\n",
        "\n",
        "for key in range(0,n2):\n",
        "        word=input().split()\n",
        "        key=word[0]\n",
        "        value=word[1]\n",
        "        dict2[key]=value\n",
        "\n",
        "for key in dict1:\n",
        "  if key in dict2.keys():\n",
        "    dict2[key]=dict2[key]+dict1[key]\n",
        "  else:\n",
        "    dict2[key]=dict1[key]\n",
        "\n",
        "print(dict2)\n"
      ],
      "execution_count": 80,
      "outputs": [
        {
          "output_type": "stream",
          "text": [
            "3\n",
            "a 1\n",
            "b 3\n",
            "c 4\n",
            "2\n",
            "n 1\n",
            "m 9\n",
            "{'n': '1', 'm': '9', 'a': '1', 'b': '3', 'c': '4'}\n"
          ],
          "name": "stdout"
        }
      ]
    },
    {
      "cell_type": "code",
      "metadata": {
        "colab": {
          "base_uri": "https://localhost:8080/"
        },
        "id": "9by481ZMfcOs",
        "outputId": "f9d17596-b5a8-4d3f-9b9b-f2358a5b2e22"
      },
      "source": [
        "#QUESTION 2\n",
        "\n",
        "ip = input(\"Enter a String:\")\n",
        "dit=dict()\n",
        "for i in ip:\n",
        "    if i in dit.keys():\n",
        "        dit[i]+=1\n",
        "    else:\n",
        "        dit[i]=1\n",
        "print(\"Frequency of Characters:\")\n",
        "print(dit)\n"
      ],
      "execution_count": 54,
      "outputs": [
        {
          "output_type": "stream",
          "text": [
            "Enter a String:Bookkeeper\n",
            "Frequency of Characters:\n",
            "{'B': 1, 'o': 2, 'k': 2, 'e': 3, 'p': 1, 'r': 1}\n"
          ],
          "name": "stdout"
        }
      ]
    },
    {
      "cell_type": "markdown",
      "metadata": {
        "id": "TirwPLJxfdoH"
      },
      "source": [
        "**STRINGS**\n",
        "\n",
        "---\n",
        "\n",
        "\n"
      ]
    },
    {
      "cell_type": "code",
      "metadata": {
        "colab": {
          "base_uri": "https://localhost:8080/"
        },
        "id": "mqgasksZg1sw",
        "outputId": "23cd2311-2fb3-4a3c-cd16-264487ee58bd"
      },
      "source": [
        "#QUESTION 1\n",
        "\n",
        "string=input(\"Enter Main string: \")\n",
        "subString=input(\"Enter Sub string: \")\n",
        "\n",
        "if all([char in string for char in subString]):\n",
        " for x in range(1,len(string)):\n",
        "   temp=string[:x]\n",
        "\n",
        "   if all([char in temp for char in subString]):\n",
        "    break\n",
        " res=temp[:x-1]\n",
        "else:\n",
        "  res=string    \n",
        "\n",
        "\n",
        "print(res)"
      ],
      "execution_count": 45,
      "outputs": [
        {
          "output_type": "stream",
          "text": [
            "Enter Main string: cats are rude\n",
            "Enter Sub string: rat\n",
            "cats a\n"
          ],
          "name": "stdout"
        }
      ]
    },
    {
      "cell_type": "code",
      "metadata": {
        "colab": {
          "base_uri": "https://localhost:8080/"
        },
        "id": "bKL97b5RcYah",
        "outputId": "846329e2-9a3c-4395-c5cb-f5bad26df325"
      },
      "source": [
        "#QUESTION 2\n",
        "\n",
        "string=input(\"Enter string: \")\n",
        "word=\"are\"\n",
        "count=0\n",
        "A=string.lower()\n",
        "a=A.split()\n",
        "\n",
        "for x in range(len(a)):\n",
        "   if(word==a[x]):\n",
        "     count+=1\n",
        "    \n",
        "print(\"Frequency of are:\",count)"
      ],
      "execution_count": 31,
      "outputs": [
        {
          "output_type": "stream",
          "text": [
            "Enter string: ARE is are\n",
            "Frequency of are: 2\n"
          ],
          "name": "stdout"
        }
      ]
    }
  ]
}