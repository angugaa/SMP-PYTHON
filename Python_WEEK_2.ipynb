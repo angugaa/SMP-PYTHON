{
  "nbformat": 4,
  "nbformat_minor": 0,
  "metadata": {
    "colab": {
      "name": "Python WEEK-2.ipynb",
      "provenance": []
    },
    "kernelspec": {
      "name": "python3",
      "display_name": "Python 3"
    },
    "language_info": {
      "name": "python"
    }
  },
  "cells": [
    {
      "cell_type": "code",
      "metadata": {
        "colab": {
          "base_uri": "https://localhost:8080/"
        },
        "id": "rmCbaYsSb8_6",
        "outputId": "ddccb69f-d392-4e8d-b67c-8091344acf17"
      },
      "source": [
        "#Q1\n",
        "\n",
        "\n",
        "ar = []\n",
        "n= int(input(\"Enter the no. of elements in List:\"))\n",
        "count=0\n",
        "\n",
        "for i in range(n):\n",
        "  temp = int(input(\"Enter Element:\"))\n",
        "  ar.append(temp)\n",
        "\n",
        " \n",
        "i=0\n",
        "j=0\n",
        "for i in range(n):\n",
        "       \n",
        "    for j in range(i+1,n):\n",
        "        if(ar[j]==ar[i]):\n",
        "            count=1\n",
        "            break  \n",
        "\n",
        "if count==1:\n",
        "  print(\"False\")\n",
        "else:\n",
        "  print(\"True\")"
      ],
      "execution_count": 5,
      "outputs": [
        {
          "output_type": "stream",
          "text": [
            "Enter the no. of elements in List:5\n",
            "Enter Element:1\n",
            "Enter Element:6\n",
            "Enter Element:7\n",
            "Enter Element:4\n",
            "Enter Element:6\n",
            "False\n"
          ],
          "name": "stdout"
        }
      ]
    },
    {
      "cell_type": "code",
      "metadata": {
        "colab": {
          "base_uri": "https://localhost:8080/"
        },
        "id": "UDNlmHm3TQAW",
        "outputId": "0e689fa5-2e6d-419b-e3f2-f85af7a02856"
      },
      "source": [
        "#Q2\n",
        "ary= []\n",
        "n= int(input(\"Enter the no. of Elements in List:\"))\n",
        "coun=0\n",
        "for i in range(n):\n",
        "  temp=int(input(\"Enter Element:\"))\n",
        "  ary.append(temp)\n",
        "\n",
        "if len(ary)==len(set(ary)):\n",
        "  coun=1\n",
        "\n",
        "if coun==0:\n",
        "  print(\"False\")\n",
        "else:\n",
        "  print(\"True\")"
      ],
      "execution_count": 4,
      "outputs": [
        {
          "output_type": "stream",
          "text": [
            "Enter the no. of Elements in List:3\n",
            "Enter Element:1\n",
            "Enter Element:3\n",
            "Enter Element:1\n",
            "False\n"
          ],
          "name": "stdout"
        }
      ]
    },
    {
      "cell_type": "code",
      "metadata": {
        "colab": {
          "base_uri": "https://localhost:8080/"
        },
        "id": "WqO7MxzAdH3s",
        "outputId": "a1d26ff9-69fa-46d6-91ae-6d802815ce42"
      },
      "source": [
        "#Q3\n",
        "arr=[]\n",
        "unique=[]\n",
        "\n",
        "n=int(input(\"Enter the No. of Elements in List:\"))\n",
        "\n",
        "flag = 0\n",
        "for i in range(n):\n",
        "  temp=int(input(\"Enter Element:\"))\n",
        "  arr.append(temp)\n",
        "\n",
        "unique=list(set(arr))\n",
        "print(unique)"
      ],
      "execution_count": 69,
      "outputs": [
        {
          "output_type": "stream",
          "text": [
            "Enter the No. of Elements in List:4\n",
            "Enter Element:1\n",
            "Enter Element:2\n",
            "Enter Element:1\n",
            "Enter Element:1\n",
            "[1, 2]\n"
          ],
          "name": "stdout"
        }
      ]
    },
    {
      "cell_type": "code",
      "metadata": {
        "colab": {
          "base_uri": "https://localhost:8080/"
        },
        "id": "znIFvpBKd2Zt",
        "outputId": "980980fa-6eaa-459f-f71a-b478afa290bd"
      },
      "source": [
        "#4\n",
        "flag=0\n",
        "A=set()\n",
        "n= int(input(\"Enter the no. of Elements in Set A :\"))\n",
        "\n",
        "for i in range(n):\n",
        "  temp=int(input(\"Enter Element:\"))\n",
        "  A.add(temp)\n",
        "print(\"Set A:\",A)\n",
        "\n",
        "B=set()\n",
        "m= int(input(\"Enter the no. of Elements in Set B:\"))\n",
        "\n",
        "for i in range(m):\n",
        "  tem=int(input(\"Enter Element:\"))\n",
        "  B.add(tem)\n",
        "print(\"Set B:\",B)\n",
        "\n",
        "print(A.issubset(B))\n",
        "  \n"
      ],
      "execution_count": 26,
      "outputs": [
        {
          "output_type": "stream",
          "text": [
            "Enter the no. of Elements in Set A :2\n",
            "Enter Element:7\n",
            "Enter Element:8\n",
            "Set A: {8, 7}\n",
            "Enter the no. of Elements in Set B:3\n",
            "Enter Element:9\n",
            "Enter Element:8\n",
            "Enter Element:7\n",
            "Set B: {8, 9, 7}\n",
            "True\n"
          ],
          "name": "stdout"
        }
      ]
    },
    {
      "cell_type": "code",
      "metadata": {
        "colab": {
          "base_uri": "https://localhost:8080/"
        },
        "id": "XrNq9FwhlcRR",
        "outputId": "eb0484d0-fb8a-478b-c618-7514a829ed8c"
      },
      "source": [
        "#5\n",
        "t1 = tuple(input().split())\n",
        "t2 = tuple(input().split())\n",
        "\n",
        "if len(t1)>len(t2):\n",
        "  min=len(t2)\n",
        "  max=len(t2)\n",
        "else:\n",
        "  min=len(t1)\n",
        "  max=len(t2)\n",
        "\n",
        "res = []\n",
        "\n",
        "for i in range(min):\n",
        "  res.append(int(t1[i])+int(t2[i]))\n",
        "\n",
        "if len(t1)==min:\n",
        "  for j in range(min, max):\n",
        "    res.append(int(t2[j]))\n",
        "else:\n",
        "  for j in range(min, max):\n",
        "    res.append(int(t1[j]))\n",
        "\n",
        "print(tuple(res))"
      ],
      "execution_count": 64,
      "outputs": [
        {
          "output_type": "stream",
          "text": [
            "4 1\n",
            "3 1\n",
            "(7, 2)\n"
          ],
          "name": "stdout"
        }
      ]
    },
    {
      "cell_type": "code",
      "metadata": {
        "colab": {
          "base_uri": "https://localhost:8080/"
        },
        "id": "7QtrtIKDovwq",
        "outputId": "a40a9028-2870-4217-9d3c-16df13925489"
      },
      "source": [
        "#6\n",
        "arry = tuple(input().split())\n",
        "\n",
        "num = 0\n",
        "for k in arry:\n",
        "  num=num*10+int(k)\n",
        "print(arry)\n",
        "print(num)\n"
      ],
      "execution_count": 41,
      "outputs": [
        {
          "output_type": "stream",
          "text": [
            "5 3 4 2 1\n",
            "('5', '3', '4', '2', '1')\n",
            "53421\n"
          ],
          "name": "stdout"
        }
      ]
    }
  ]
}